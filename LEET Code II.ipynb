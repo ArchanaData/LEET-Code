{
 "cells": [
  {
   "cell_type": "markdown",
   "id": "93f083b7",
   "metadata": {},
   "source": [
    "How Many Numbers Are Smaller Than the Current Number\n",
    "\n",
    "Given the array nums, for each nums[i] find out how many numbers in the array are smaller than it. That is, for each nums[i] you have to count the number of valid j's such that j != i and nums[j] < nums[i].\n",
    "\n",
    "Return the answer in an array.\n",
    "\n",
    " \n",
    "\n",
    "Example 1:\n",
    "\n",
    "Input: nums = [8,1,2,2,3]\n",
    "Output: [4,0,1,1,3]\n",
    "Explanation: \n",
    "For nums[0]=8 there exist four smaller numbers than it (1, 2, 2 and 3). \n",
    "For nums[1]=1 does not exist any smaller number than it.\n",
    "For nums[2]=2 there exist one smaller number than it (1). \n",
    "For nums[3]=2 there exist one smaller number than it (1). \n",
    "For nums[4]=3 there exist three smaller numbers than it (1, 2 and 2)."
   ]
  },
  {
   "cell_type": "code",
   "execution_count": null,
   "id": "226861e7",
   "metadata": {},
   "outputs": [],
   "source": [
    "class Solution:\n",
    "    def smallerNumbersThanCurrent(self, nums: List[int]) -> List[int]:\n",
    "        sorted_nums = sorted(nums)\n",
    "        result = []\n",
    "        dic = {}\n",
    "        \n",
    "        for i in range(len(sorted_nums)):\n",
    "            if sorted_nums[i] not in dic:\n",
    "                dic[sorted_nums[i]] = i\n",
    "        \n",
    "        for i in nums:\n",
    "            result.append(dic[i])\n",
    "        return result"
   ]
  },
  {
   "cell_type": "markdown",
   "id": "2d5a5182",
   "metadata": {},
   "source": [
    "Shuffle String\n",
    "\n",
    "You are given a string s and an integer array indices of the same length. The string s will be shuffled such that the character at the ith position moves to indices[i] in the shuffled string.\n",
    "\n",
    "Return the shuffled string.\n",
    "\n",
    "Input: s = \"codeleet\", indices = [4,5,6,7,0,2,1,3]\n",
    "Output: \"leetcode\"\n",
    "Explanation: As shown, \"codeleet\" becomes \"leetcode\" after shuffling."
   ]
  },
  {
   "cell_type": "code",
   "execution_count": null,
   "id": "32f7c266",
   "metadata": {},
   "outputs": [],
   "source": [
    "class Solution:\n",
    "    def restoreString(self, s: str, indices: List[int]) -> str:\n",
    "        res = [\"\"] * len(indices)\n",
    "        for i, j in zip(indices, s):\n",
    "            res[i] = j\n",
    "        return \"\".join(res)\n",
    "        "
   ]
  },
  {
   "cell_type": "markdown",
   "id": "06ad1dda",
   "metadata": {},
   "source": [
    "Subtract the Product and Sum of Digits of an Integer\n",
    "\n",
    "Given an integer number n, return the difference between the product of its digits and the sum of its digits.\n",
    " \n",
    "\n",
    "Example 1:\n",
    "\n",
    "Input: n = 234\n",
    "Output: 15 \n",
    "Explanation: \n",
    "Product of digits = 2 * 3 * 4 = 24 \n",
    "Sum of digits = 2 + 3 + 4 = 9 \n",
    "Result = 24 - 9 = 15"
   ]
  },
  {
   "cell_type": "code",
   "execution_count": null,
   "id": "5f4482f2",
   "metadata": {},
   "outputs": [],
   "source": [
    "class Solution:\n",
    "    def subtractProductAndSum(self, n: int) -> int:\n",
    "        Prod = 1\n",
    "        Sum = 0\n",
    "        for i in str(n):\n",
    "            Prod*=int(i)\n",
    "            Sum+=int(i)\n",
    "        return (Prod - Sum)"
   ]
  },
  {
   "cell_type": "markdown",
   "id": "bd583d8f",
   "metadata": {},
   "source": [
    "Number of Steps to Reduce a Number to Zero\n",
    "\n",
    "Given an integer num, return the number of steps to reduce it to zero.\n",
    "\n",
    "In one step, if the current number is even, you have to divide it by 2, otherwise, you have to subtract 1 from it.\n",
    "\n",
    " \n",
    "\n",
    "Example 1:\n",
    "\n",
    "Input: num = 14\n",
    "Output: 6\n",
    "Explanation: \n",
    "Step 1) 14 is even; divide by 2 and obtain 7. \n",
    "Step 2) 7 is odd; subtract 1 and obtain 6.\n",
    "Step 3) 6 is even; divide by 2 and obtain 3. \n",
    "Step 4) 3 is odd; subtract 1 and obtain 2. \n",
    "Step 5) 2 is even; divide by 2 and obtain 1. \n",
    "Step 6) 1 is odd; subtract 1 and obtain 0."
   ]
  },
  {
   "cell_type": "code",
   "execution_count": null,
   "id": "370e04cf",
   "metadata": {},
   "outputs": [],
   "source": [
    "class Solution:\n",
    "    def numberOfSteps(self, num: int) -> int:\n",
    "        count = 0\n",
    "        while num > 0:\n",
    "            if num%2 == 0:\n",
    "                num = num//2\n",
    "            else:\n",
    "                num = num - 1\n",
    "            count +=1\n",
    "        return count\n",
    "            "
   ]
  },
  {
   "cell_type": "markdown",
   "id": "6b83c558",
   "metadata": {},
   "source": [
    "Single-Row Keyboard\n",
    "\n",
    "There is a special keyboard with all keys in a single row.\n",
    "\n",
    "Given a string keyboard of length 26 indicating the layout of the keyboard (indexed from 0 to 25). Initially, your finger is at index 0. To type a character, you have to move your finger to the index of the desired character. The time taken to move your finger from index i to index j is |i - j|.\n",
    "\n",
    "You want to type a string word. Write a function to calculate how much time it takes to type it with one finger.\n",
    "\n",
    " \n",
    "\n",
    "Example 1:\n",
    "\n",
    "Input: keyboard = \"abcdefghijklmnopqrstuvwxyz\", word = \"cba\"\n",
    "Output: 4\n",
    "Explanation: The index moves from 0 to 2 to write 'c' then to 1 to write 'b' then to 0 again to write 'a'.\n",
    "Total time = 2 + 1 + 1 = 4. "
   ]
  },
  {
   "cell_type": "code",
   "execution_count": null,
   "id": "3cc1785f",
   "metadata": {},
   "outputs": [],
   "source": [
    "class Solution:\n",
    "    def calculateTime(self, keyboard: str, word: str) -> int:\n",
    "        current_index = 0\n",
    "        current_movement = 0\n",
    "        for element in word:\n",
    "            current_movement += abs(current_index - keyboard.index(element))\n",
    "            current_index = keyboard.index(element)\n",
    "        return current_movement"
   ]
  },
  {
   "cell_type": "markdown",
   "id": "f1120ce3",
   "metadata": {},
   "source": [
    "Goal Parser Interpretation\n",
    "\n",
    "You own a Goal Parser that can interpret a string command. The command consists of an alphabet of \"G\", \"()\" and/or \"(al)\" in some order. The Goal Parser will interpret \"G\" as the string \"G\", \"()\" as the string \"o\", and \"(al)\" as the string \"al\". The interpreted strings are then concatenated in the original order.\n",
    "\n",
    "Given the string command, return the Goal Parser's interpretation of command.\n",
    "\n",
    " \n",
    "\n",
    "Example 1:\n",
    "\n",
    "Input: command = \"G()(al)\"\n",
    "Output: \"Goal\"\n",
    "Explanation: The Goal Parser interprets the command as follows:\n",
    "G -> G\n",
    "() -> o\n",
    "(al) -> al\n",
    "The final concatenated result is \"Goal\"."
   ]
  },
  {
   "cell_type": "code",
   "execution_count": null,
   "id": "91b0421a",
   "metadata": {},
   "outputs": [],
   "source": [
    "class Solution:\n",
    "    def interpret(self, command: str) -> str:\n",
    "        return command.replace(\"()\", \"o\").replace(\"(al)\", \"al\")\n",
    "        "
   ]
  },
  {
   "cell_type": "markdown",
   "id": "a6a682c5",
   "metadata": {},
   "source": [
    "Replace All Digits with Characters\n",
    "\n",
    "You are given a 0-indexed string s that has lowercase English letters in its even indices and digits in its odd indices.\n",
    "\n",
    "There is a function shift(c, x), where c is a character and x is a digit, that returns the xth character after c.\n",
    "\n",
    "For example, shift('a', 5) = 'f' and shift('x', 0) = 'x'.\n",
    "For every odd index i, you want to replace the digit s[i] with shift(s[i-1], s[i]).\n",
    "\n",
    "Return s after replacing all digits. It is guaranteed that shift(s[i-1], s[i]) will never exceed 'z'."
   ]
  },
  {
   "cell_type": "code",
   "execution_count": null,
   "id": "fef4a8dd",
   "metadata": {},
   "outputs": [],
   "source": [
    "class Solution:\n",
    "    def replaceDigits(self, s: str) -> str:\n",
    "        res = []\n",
    "        \n",
    "        for i in range(len(s)):\n",
    "            if i%2 == 0:\n",
    "                res.append(s[i])\n",
    "            if i%2 :\n",
    "                res.append(chr(int(s[i]) + ord(s[i-1])))\n",
    "        return \"\".join(res)"
   ]
  },
  {
   "cell_type": "markdown",
   "id": "9d2c6136",
   "metadata": {},
   "source": [
    "Intersection of Three Sorted Arrays\n",
    "\n",
    "Given three integer arrays arr1, arr2 and arr3 sorted in strictly increasing order, return a sorted array of only the integers that appeared in all three arrays.\n",
    "\n",
    " \n",
    "\n",
    "Example 1:\n",
    "\n",
    "Input: arr1 = [1,2,3,4,5], arr2 = [1,2,5,7,9], arr3 = [1,3,4,5,8]\n",
    "Output: [1,5]\n",
    "Explanation: Only 1 and 5 appeared in the three arrays."
   ]
  },
  {
   "cell_type": "code",
   "execution_count": null,
   "id": "fb67a707",
   "metadata": {},
   "outputs": [],
   "source": [
    "class Solution:\n",
    "    def arraysIntersection(self, arr1: List[int], arr2: List[int], arr3: List[int]) -> List[int]:\n",
    "        ans = []\n",
    "        counter = collections.Counter(arr1 + arr2 + arr3)\n",
    "        \n",
    "        for count in counter:\n",
    "            if counter[count] == 3:\n",
    "                ans.append(count)\n",
    "        return ans"
   ]
  },
  {
   "cell_type": "markdown",
   "id": "407f3d54",
   "metadata": {},
   "source": [
    "Unique Morse Code Words\n",
    "\n",
    "International Morse Code defines a standard encoding where each letter is mapped to a series of dots and dashes, as follows:\n",
    "\n",
    "'a' maps to \".-\",\n",
    "'b' maps to \"-...\",\n",
    "'c' maps to \"-.-.\", and so on.\n",
    "For convenience, the full table for the 26 letters of the English alphabet is given below:\n",
    "\n",
    "[\".-\",\"-...\",\"-.-.\",\"-..\",\".\",\"..-.\",\"--.\",\"....\",\"..\",\".---\",\"-.-\",\".-..\",\"--\",\"-.\",\"---\",\".--.\",\"--.-\",\".-.\",\"...\",\"-\",\"..-\",\"...-\",\".--\",\"-..-\",\"-.--\",\"--..\"]\n",
    "Given an array of strings words where each word can be written as a concatenation of the Morse code of each letter.\n",
    "\n",
    "For example, \"cab\" can be written as \"-.-..--...\", which is the concatenation of \"-.-.\", \".-\", and \"-...\". We will call such a concatenation the transformation of a word.\n",
    "Return the number of different transformations among all words we have."
   ]
  },
  {
   "cell_type": "code",
   "execution_count": null,
   "id": "8360b2e6",
   "metadata": {},
   "outputs": [],
   "source": [
    "class Solution:\n",
    "    def uniqueMorseRepresentations(self, words: List[str]) -> int:\n",
    "        morse_code = [\".-\",\"-...\",\"-.-.\",\"-..\",\".\",\"..-.\",\"--.\",\"....\",\"..\",\".---\",\"-.-\",\".-..\",\"--\",\"-.\",\"---\",\".--.\",\"--.-\",\".-.\",\"...\",\"-\",\"..-\",\"...-\",\".--\",\"-..-\",\"-.--\",\"--..\"]\n",
    "        \n",
    "        \n",
    "        seen = {\"\".join(morse_code[ord(c) - ord('a')] for c in word) for word in words}\n",
    "        return len(seen)\n"
   ]
  },
  {
   "cell_type": "markdown",
   "id": "f8b4427b",
   "metadata": {},
   "source": [
    "To Lower Case\n",
    "\n",
    "Given a string s, return the string after replacing every uppercase letter with the same lowercase letter.\n",
    "\n",
    "Example 1:\n",
    "\n",
    "Input: s = \"Hello\"\n",
    "Output: \"hello\""
   ]
  },
  {
   "cell_type": "code",
   "execution_count": null,
   "id": "78b8b082",
   "metadata": {},
   "outputs": [],
   "source": [
    "class Solution:\n",
    "    def toLowerCase(self, s: str) -> str:\n",
    "        return s.lower()"
   ]
  }
 ],
 "metadata": {
  "kernelspec": {
   "display_name": "Python 3",
   "language": "python",
   "name": "python3"
  },
  "language_info": {
   "codemirror_mode": {
    "name": "ipython",
    "version": 3
   },
   "file_extension": ".py",
   "mimetype": "text/x-python",
   "name": "python",
   "nbconvert_exporter": "python",
   "pygments_lexer": "ipython3",
   "version": "3.8.8"
  }
 },
 "nbformat": 4,
 "nbformat_minor": 5
}
