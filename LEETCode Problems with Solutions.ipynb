{
 "cells": [
  {
   "cell_type": "markdown",
   "id": "9217a54e",
   "metadata": {},
   "source": [
    "Best Time to Buy and Sell Stock\n",
    "\n",
    "You are given an array prices where prices[i] is the price of a given stock on the ith day.\n",
    "\n",
    "You want to maximize your profit by choosing a single day to buy one stock and choosing a different day in the future to sell that stock.\n",
    "\n",
    "Return the maximum profit you can achieve from this transaction. If you cannot achieve any profit, return 0.\n",
    "\n",
    " \n",
    "\n",
    "Example 1:\n",
    "\n",
    "Input: prices = [7,1,5,3,6,4]\n",
    "Output: 5\n",
    "Explanation: Buy on day 2 (price = 1) and sell on day 5 (price = 6), profit = 6-1 = 5.\n",
    "Note that buying on day 2 and selling on day 1 is not allowed because you must buy before you sell."
   ]
  },
  {
   "cell_type": "code",
   "execution_count": null,
   "id": "16ab481f",
   "metadata": {},
   "outputs": [],
   "source": [
    "class Solution:\n",
    "    def maxProfit(self, prices: List[int]) -> int:\n",
    "        l, r = 0, 1\n",
    "        maxP = 0\n",
    "        while r < len(prices):\n",
    "            # is it profitable?\n",
    "            if prices[l] < prices[r]:\n",
    "                maxP = max(maxP, (prices[r] - prices[l]))\n",
    "            else:\n",
    "                l = r\n",
    "            r+=1"
   ]
  },
  {
   "cell_type": "code",
   "execution_count": null,
   "id": "136009f0",
   "metadata": {},
   "outputs": [],
   "source": []
  },
  {
   "cell_type": "markdown",
   "id": "8b93d67b",
   "metadata": {},
   "source": [
    "Binary Search\n",
    "\n",
    "Given an array of integers nums which is sorted in ascending order, and an integer target, write a function to search target in nums. If target exists, then return its index. Otherwise, return -1.\n",
    "\n",
    "You must write an algorithm with O(log n) runtime complexity.\n",
    "\n",
    " \n",
    "\n",
    "Example 1:\n",
    "\n",
    "Input: nums = [-1,0,3,5,9,12], target = 9\n",
    "Output: 4\n",
    "Explanation: 9 exists in nums and its index is 4"
   ]
  },
  {
   "cell_type": "code",
   "execution_count": null,
   "id": "235e784b",
   "metadata": {},
   "outputs": [],
   "source": [
    "class Solution:\n",
    "    def search(self, nums: List[int], target: int) -> int:\n",
    "        for i in range(len(nums)):\n",
    "            if nums[i] == target:\n",
    "                return i\n",
    "        return -1\n",
    "        \n",
    "\n",
    "        \n",
    "        \n",
    "class Solution:\n",
    "    def search(self, nums: List[int], target: int) -> int:\n",
    "        left, right = 0, len(nums) - 1\n",
    "        while left <= right:\n",
    "            pivot = left + (right - left) // 2\n",
    "            if nums[pivot] == target:\n",
    "                return pivot\n",
    "            if target < nums[pivot]:\n",
    "                right = pivot - 1\n",
    "            else:\n",
    "                left = pivot + 1\n",
    "        return -1"
   ]
  },
  {
   "cell_type": "markdown",
   "id": "9e737d64",
   "metadata": {},
   "source": []
  },
  {
   "cell_type": "markdown",
   "id": "f2b40338",
   "metadata": {},
   "source": [
    "JEWELS & STONES\n",
    "\n",
    "You're given strings jewels representing the types of stones that are jewels, and stones representing the stones you have. Each character in stones is a type of stone you have. You want to know how many of the stones you have are also jewels.\n",
    "\n",
    "Letters are case sensitive, so \"a\" is considered a different type of stone from \"A\".\n",
    "\n",
    "Example 1:\n",
    "\n",
    "Input: jewels = \"aA\", stones = \"aAAbbbb\"\n",
    "Output: 3\n",
    "Example 2:\n",
    "\n",
    "Input: jewels = \"z\", stones = \"ZZ\"\n",
    "Output: 0"
   ]
  },
  {
   "cell_type": "code",
   "execution_count": null,
   "id": "9d97143e",
   "metadata": {},
   "outputs": [],
   "source": [
    "class Solution:\n",
    "    def numJewelsInStones(self, jewels: str, stones: str) -> int:\n",
    "        count = 0\n",
    "        for i in stones:\n",
    "            for j in jewels:\n",
    "                if  i == j:\n",
    "                    count+=1\n",
    "        return count"
   ]
  },
  {
   "cell_type": "markdown",
   "id": "c615f59b",
   "metadata": {},
   "source": []
  },
  {
   "cell_type": "markdown",
   "id": "760946c6",
   "metadata": {},
   "source": [
    "NUMBER OF GOOD PAIRS\n",
    "\n",
    "Given an array of integers nums, return the number of good pairs.\n",
    "\n",
    "A pair (i, j) is called good if nums[i] == nums[j] and i < j.\n",
    "\n",
    " \n",
    "\n",
    "Example 1:\n",
    "\n",
    "Input: nums = [1,2,3,1,1,3]\n",
    "Output: 4\n",
    "Explanation: There are 4 good pairs (0,3), (0,4), (3,4), (2,5) 0-indexed.\n",
    "Example 2:\n",
    "\n",
    "Input: nums = [1,1,1,1]\n",
    "Output: 6\n",
    "Explanation: Each pair in the array are good.\n",
    "Example 3:\n",
    "\n",
    "Input: nums = [1,2,3]\n",
    "Output: 0"
   ]
  },
  {
   "cell_type": "code",
   "execution_count": null,
   "id": "d0056d7e",
   "metadata": {},
   "outputs": [],
   "source": [
    "class Solution:\n",
    "    def numIdenticalPairs(self, nums: List[int]) -> int:\n",
    "        sum1 = 0\n",
    "        setnums = set(nums)\n",
    "        for num in setnums:\n",
    "            c = nums.count(num)\n",
    "            sum1 += (c*(c-1))//2\n",
    "        return sum1\n",
    "            "
   ]
  },
  {
   "cell_type": "markdown",
   "id": "db17c611",
   "metadata": {},
   "source": []
  },
  {
   "cell_type": "markdown",
   "id": "1e875cc8",
   "metadata": {},
   "source": [
    "KIDS WITH THE GREATEST NUMBER OF CANDIES\n",
    "\n",
    "There are n kids with candies. You are given an integer array candies, where each candies[i] represents the number of candies the ith kid has, and an integer extraCandies, denoting the number of extra candies that you have.\n",
    "\n",
    "Return a boolean array result of length n, where result[i] is true if, after giving the ith kid all the extraCandies, they will have the greatest number of candies among all the kids, or false otherwise.\n",
    "\n",
    "Note that multiple kids can have the greatest number of candies.\n",
    "\n",
    " \n",
    "\n",
    "Example 1:\n",
    "\n",
    "Input: candies = [2,3,5,1,3], extraCandies = 3\n",
    "Output: [true,true,true,false,true] \n",
    "Explanation: If you give all extraCandies to:\n",
    "- Kid 1, they will have 2 + 3 = 5 candies, which is the greatest among the kids.\n",
    "- Kid 2, they will have 3 + 3 = 6 candies, which is the greatest among the kids.\n",
    "- Kid 3, they will have 5 + 3 = 8 candies, which is the greatest among the kids.\n",
    "- Kid 4, they will have 1 + 3 = 4 candies, which is not the greatest among the kids.\n",
    "- Kid 5, they will have 3 + 3 = 6 candies, which is the greatest among the kids."
   ]
  },
  {
   "cell_type": "code",
   "execution_count": null,
   "id": "7751d589",
   "metadata": {},
   "outputs": [],
   "source": [
    "class Solution:\n",
    "    def kidsWithCandies(self, candies: List[int], extraCandies: int) -> List[bool]:\n",
    "        boolean = []\n",
    "        for i in range(len(candies)):\n",
    "            if (candies[i] + extraCandies) < max(candies):\n",
    "                boolean.append(False)\n",
    "            else:\n",
    "                boolean.append(True)\n",
    "        return boolean\n",
    "            "
   ]
  },
  {
   "cell_type": "markdown",
   "id": "0c6a1580",
   "metadata": {},
   "source": []
  },
  {
   "cell_type": "markdown",
   "id": "db247001",
   "metadata": {},
   "source": [
    "RICHEST CUSTOMER WEALTH\n",
    "\n",
    "You are given an m x n integer grid accounts where accounts[i][j] is the amount of money the i​​​​​​​​​​​th​​​​ customer has in the j​​​​​​​​​​​th​​​​ bank. Return the wealth that the richest customer has.\n",
    "\n",
    "A customer's wealth is the amount of money they have in all their bank accounts. The richest customer is the customer that has the maximum wealth.\n",
    "\n",
    " \n",
    "\n",
    "Example 1:\n",
    "\n",
    "Input: accounts = [[1,2,3],[3,2,1]]\n",
    "Output: 6\n",
    "Explanation:\n",
    "1st customer has wealth = 1 + 2 + 3 = 6\n",
    "2nd customer has wealth = 3 + 2 + 1 = 6\n",
    "Both customers are considered the richest with a wealth of 6 each, so return 6."
   ]
  },
  {
   "cell_type": "code",
   "execution_count": null,
   "id": "6c95e5bd",
   "metadata": {},
   "outputs": [],
   "source": [
    "class Solution:\n",
    "    def maximumWealth(self, accounts: List[List[int]]) -> int:\n",
    "        wealth = []\n",
    "        for account in accounts:\n",
    "            wealth.append(sum(account))\n",
    "        return max(wealth)"
   ]
  },
  {
   "cell_type": "markdown",
   "id": "2742971e",
   "metadata": {},
   "source": []
  },
  {
   "cell_type": "markdown",
   "id": "7b319005",
   "metadata": {},
   "source": [
    "DEFANGING AN IP ADDRESS\n",
    "\n",
    "Given a valid (IPv4) IP address, return a defanged version of that IP address.\n",
    "\n",
    "A defanged IP address replaces every period \".\" with \"[.]\".\n",
    "\n",
    " \n",
    "\n",
    "Example 1:\n",
    "\n",
    "Input: address = \"1.1.1.1\"\n",
    "Output: \"1[.]1[.]1[.]1\""
   ]
  },
  {
   "cell_type": "code",
   "execution_count": null,
   "id": "533141f7",
   "metadata": {},
   "outputs": [],
   "source": [
    "class Solution:\n",
    "    def defangIPaddr(self, address: str) -> str:\n",
    "        return address.replace(\".\", \"[.]\")\n",
    "        "
   ]
  },
  {
   "cell_type": "markdown",
   "id": "d0b34b0d",
   "metadata": {},
   "source": []
  },
  {
   "cell_type": "markdown",
   "id": "337455c0",
   "metadata": {},
   "source": [
    "RUNNING SUM OF 1D ARRAY\n",
    "\n",
    "Given an array nums. We define a running sum of an array as runningSum[i] = sum(nums[0]…nums[i]).\n",
    "\n",
    "Return the running sum of nums.\n",
    "\n",
    " \n",
    "\n",
    "Example 1:\n",
    "\n",
    "Input: nums = [1,2,3,4]\n",
    "Output: [1,3,6,10]\n",
    "Explanation: Running sum is obtained as follows: [1, 1+2, 1+2+3, 1+2+3+4]."
   ]
  },
  {
   "cell_type": "code",
   "execution_count": null,
   "id": "febda0e7",
   "metadata": {},
   "outputs": [],
   "source": [
    "class Solution:\n",
    "    def runningSum(self, nums: List[int]) -> List[int]:\n",
    "        l = []\n",
    "        res = 0\n",
    "        for i in nums:\n",
    "            i = res + i\n",
    "            res = i\n",
    "            l.append(i)\n",
    "        return l\n",
    "        "
   ]
  },
  {
   "cell_type": "code",
   "execution_count": null,
   "id": "2384ea05",
   "metadata": {},
   "outputs": [],
   "source": []
  },
  {
   "cell_type": "code",
   "execution_count": null,
   "id": "18225c95",
   "metadata": {},
   "outputs": [],
   "source": [
    "Final Value of Variable After Performing Operations\n",
    "\n",
    "There is a programming language with only four operations and one variable X:\n",
    "\n",
    "++X and X++ increments the value of the variable X by 1.\n",
    "--X and X-- decrements the value of the variable X by 1.\n",
    "Initially, the value of X is 0.\n",
    "\n",
    "Given an array of strings operations containing a list of operations, return the final value of X after performing all the operations.\n",
    "\n",
    " \n",
    "\n",
    "Example 1:\n",
    "\n",
    "Input: operations = [\"--X\",\"X++\",\"X++\"]\n",
    "Output: 1\n",
    "Explanation: The operations are performed as follows:\n",
    "Initially, X = 0.\n",
    "--X: X is decremented by 1, X =  0 - 1 = -1.\n",
    "X++: X is incremented by 1, X = -1 + 1 =  0.\n",
    "X++: X is incremented by 1, X =  0 + 1 =  1."
   ]
  },
  {
   "cell_type": "code",
   "execution_count": null,
   "id": "6fd18636",
   "metadata": {},
   "outputs": [],
   "source": [
    "class Solution:\n",
    "    def finalValueAfterOperations(self, operations: List[str]) -> int:\n",
    "        x = 0\n",
    "        for operation in operations:\n",
    "            if '+' in operation:\n",
    "                x+=1\n",
    "            if '-' in operation:\n",
    "                x-=1\n",
    "        return x\n",
    "    \n",
    "    \n",
    "                \n",
    "class Solution:\n",
    "    def finalValueAfterOperations(self, operations: List[str]) -> int:\n",
    "        dict = {\"X++\": 1, \"++X\": 1, \"X--\": -1, \"--X\": -1}\n",
    "        res = 0\n",
    "        for op in operations:\n",
    "            res+=dict[op]\n",
    "        return res        "
   ]
  },
  {
   "cell_type": "markdown",
   "id": "086d9d7f",
   "metadata": {},
   "source": []
  },
  {
   "cell_type": "markdown",
   "id": "0ca95dc8",
   "metadata": {},
   "source": [
    "Remove Vowels from a String\n",
    "\n",
    "Given a string s, remove the vowels 'a', 'e', 'i', 'o', and 'u' from it, and return the new string.\n",
    "\n",
    " \n",
    "\n",
    "Example 1:\n",
    "\n",
    "Input: s = \"leetcodeisacommunityforcoders\"\n",
    "Output: \"ltcdscmmntyfrcdrs\""
   ]
  },
  {
   "cell_type": "code",
   "execution_count": null,
   "id": "86077948",
   "metadata": {},
   "outputs": [],
   "source": [
    "class Solution:\n",
    "    def removeVowels(self, s: str) -> str:\n",
    "        return s.replace('a', '').replace('e', '').replace('i', '').replace('o', '').replace('u', '')"
   ]
  },
  {
   "cell_type": "markdown",
   "id": "8ee62751",
   "metadata": {},
   "source": []
  },
  {
   "cell_type": "markdown",
   "id": "ef41ca46",
   "metadata": {},
   "source": [
    "Build Array from Permutation\n",
    "\n",
    "Given a zero-based permutation nums (0-indexed), build an array ans of the same length where ans[i] = nums[nums[i]] for each 0 <= i < nums.length and return it.\n",
    "\n",
    "A zero-based permutation nums is an array of distinct integers from 0 to nums.length - 1 (inclusive).\n",
    "\n",
    " \n",
    "\n",
    "Example 1:\n",
    "\n",
    "Input: nums = [0,2,1,5,3,4]\n",
    "Output: [0,1,2,4,5,3]\n",
    "Explanation: The array ans is built as follows: \n",
    "ans = [nums[nums[0]], nums[nums[1]], nums[nums[2]], nums[nums[3]], nums[nums[4]], nums[nums[5]]]\n",
    "    = [nums[0], nums[2], nums[1], nums[5], nums[3], nums[4]]\n",
    "    = [0,1,2,4,5,3]"
   ]
  },
  {
   "cell_type": "code",
   "execution_count": null,
   "id": "5b8b0dee",
   "metadata": {},
   "outputs": [],
   "source": [
    "class Solution:\n",
    "    def buildArray(self, nums: List[int]) -> List[int]:\n",
    "        ans = []\n",
    "        for i in range(len(nums)):\n",
    "            ans.append(nums[nums[i]])\n",
    "        return ans"
   ]
  },
  {
   "cell_type": "markdown",
   "id": "66c500c3",
   "metadata": {},
   "source": []
  },
  {
   "cell_type": "markdown",
   "id": "13a29c5b",
   "metadata": {},
   "source": [
    "Add Strings\n",
    "\n",
    "Given two non-negative integers, num1 and num2 represented as string, return the sum of num1 and num2 as a string.\n",
    "\n",
    "You must solve the problem without using any built-in library for handling large integers (such as BigInteger). You must also not convert the inputs to integers directly.\n",
    "\n",
    "Example 1:\n",
    "\n",
    "Input: num1 = \"11\", num2 = \"123\"\n",
    "Output: \"134\""
   ]
  },
  {
   "cell_type": "code",
   "execution_count": null,
   "id": "96ddc0d5",
   "metadata": {},
   "outputs": [],
   "source": [
    "class Solution:\n",
    "    def addStrings(self, num1: str, num2: str) -> str:\n",
    "        return str(int(num1) + int(num2))"
   ]
  },
  {
   "cell_type": "markdown",
   "id": "d71ca87f",
   "metadata": {},
   "source": []
  },
  {
   "cell_type": "markdown",
   "id": "036574d6",
   "metadata": {},
   "source": [
    "Valid Palindrome\n",
    "\n",
    "A phrase is a palindrome if, after converting all uppercase letters into lowercase letters and removing all non-alphanumeric characters, it reads the same forward and backward. Alphanumeric characters include letters and numbers.\n",
    "\n",
    "Given a string s, return true if it is a palindrome, or false otherwise.\n",
    "\n",
    " \n",
    "\n",
    "Example 1:\n",
    "\n",
    "Input: s = \"A man, a plan, a canal: Panama\"\n",
    "Output: true\n",
    "Explanation: \"amanaplanacanalpanama\" is a palindrome."
   ]
  },
  {
   "cell_type": "code",
   "execution_count": null,
   "id": "9176eb05",
   "metadata": {},
   "outputs": [],
   "source": [
    "class Solution:\n",
    "    def isPalindrome(self, s: str) -> bool:\n",
    "        s = filter(lambda x: x.isalnum(), s)\n",
    "        s = list(map(lambda x: x.lower(), s))\n",
    "        if s[:] == s[::-1]:\n",
    "            return True\n",
    "        return False"
   ]
  },
  {
   "cell_type": "markdown",
   "id": "76d266d3",
   "metadata": {},
   "source": []
  },
  {
   "cell_type": "markdown",
   "id": "2f175caf",
   "metadata": {},
   "source": [
    "Search Insert Position\n",
    "\n",
    "Given a sorted array of distinct integers and a target value, return the index if the target is found. If not, return the index where it would be if it were inserted in order.\n",
    "\n",
    "You must write an algorithm with O(log n) runtime complexity.\n",
    "\n",
    " \n",
    "\n",
    "Example 1:\n",
    "\n",
    "Input: nums = [1,3,5,6], target = 5\n",
    "Output: 2"
   ]
  },
  {
   "cell_type": "code",
   "execution_count": null,
   "id": "36a864b5",
   "metadata": {},
   "outputs": [],
   "source": [
    "class Solution:\n",
    "    def searchInsert(self, nums: List[int], target: int) -> int:\n",
    "        if not nums:\n",
    "            return 0\n",
    "        \n",
    "        for i, num in enumerate(nums):\n",
    "            if num >= target:\n",
    "                return i\n",
    "        \n",
    "        return len(nums)\n",
    "       "
   ]
  },
  {
   "cell_type": "markdown",
   "id": "9e41e09d",
   "metadata": {},
   "source": []
  },
  {
   "cell_type": "markdown",
   "id": "765ce87c",
   "metadata": {},
   "source": [
    "Calculate Money in Leetcode Bank\n",
    "\n",
    "Hercy wants to save money for his first car. He puts money in the Leetcode bank every day.\n",
    "\n",
    "He starts by putting in $1 on Monday, the first day. Every day from Tuesday to Sunday, he will put in $1 more than the day before. On every subsequent Monday, he will put in $1 more than the previous Monday.\n",
    "\n",
    "Given n, return the total amount of money he will have in the Leetcode bank at the end of the nth day.\n",
    "\n",
    " \n",
    "\n",
    "Example 1:\n",
    "\n",
    "Input: n = 4\n",
    "Output: 10\n",
    "Explanation: After the 4th day, the total is 1 + 2 + 3 + 4 = 10."
   ]
  },
  {
   "cell_type": "code",
   "execution_count": null,
   "id": "0105f35d",
   "metadata": {},
   "outputs": [],
   "source": [
    "class Solution:\n",
    "    def totalMoney(self, n: int) -> int:\n",
    "        sum = 0\n",
    "        res = 0\n",
    "        for i in range(n):\n",
    "            if i%7 == 0:\n",
    "                sum+=1\n",
    "            res+=sum+(i%7)\n",
    "        return res"
   ]
  },
  {
   "cell_type": "markdown",
   "id": "5380a494",
   "metadata": {},
   "source": []
  },
  {
   "cell_type": "markdown",
   "id": "f094a7f9",
   "metadata": {},
   "source": [
    "Maximum Number of Words Found in Sentences\n",
    "\n",
    "A sentence is a list of words that are separated by a single space with no leading or trailing spaces.\n",
    "\n",
    "You are given an array of strings sentences, where each sentences[i] represents a single sentence.\n",
    "\n",
    "Return the maximum number of words that appear in a single sentence.\n",
    "\n",
    " \n",
    "\n",
    "Example 1:\n",
    "\n",
    "Input: sentences = [\"alice and bob love leetcode\", \"i think so too\", \"this is great thanks very much\"]\n",
    "Output: 6\n",
    "Explanation: \n",
    "- The first sentence, \"alice and bob love leetcode\", has 5 words in total.\n",
    "- The second sentence, \"i think so too\", has 4 words in total.\n",
    "- The third sentence, \"this is great thanks very much\", has 6 words in total.\n",
    "Thus, the maximum number of words in a single sentence comes from the third sentence, which has 6 words."
   ]
  },
  {
   "cell_type": "code",
   "execution_count": null,
   "id": "b31557ee",
   "metadata": {},
   "outputs": [],
   "source": [
    "class Solution:\n",
    "    def mostWordsFound(self, sentences: List[str]) -> int:\n",
    "        l = []\n",
    "        for i in sentences:\n",
    "            l.append(len(i.split()))\n",
    "        return max(l)"
   ]
  },
  {
   "cell_type": "markdown",
   "id": "3fed6306",
   "metadata": {},
   "source": []
  },
  {
   "cell_type": "markdown",
   "id": "df18840e",
   "metadata": {},
   "source": [
    "Find First Palindromic String in the Array\n",
    "\n",
    "Given an array of strings words, return the first palindromic string in the array. If there is no such string, return an empty string \"\".\n",
    "\n",
    "A string is palindromic if it reads the same forward and backward.\n",
    "\n",
    " \n",
    "\n",
    "Example 1:\n",
    "\n",
    "Input: words = [\"abc\",\"car\",\"ada\",\"racecar\",\"cool\"]\n",
    "Output: \"ada\"\n",
    "Explanation: The first string that is palindromic is \"ada\".\n",
    "Note that \"racecar\" is also palindromic, but it is not the first."
   ]
  },
  {
   "cell_type": "code",
   "execution_count": null,
   "id": "85dbde75",
   "metadata": {},
   "outputs": [],
   "source": [
    "class Solution:\n",
    "    def firstPalindrome(self, words: List[str]) -> str:\n",
    "        for i in words:\n",
    "            if i[:] == i[::-1]:\n",
    "                return i\n",
    "        return \"\""
   ]
  },
  {
   "cell_type": "markdown",
   "id": "90ad5a02",
   "metadata": {},
   "source": []
  },
  {
   "cell_type": "markdown",
   "id": "cd3244f0",
   "metadata": {},
   "source": [
    "Concatenation of Array\n",
    "\n",
    "Given an integer array nums of length n, you want to create an array ans of length 2n where ans[i] == nums[i] and ans[i + n] == nums[i] for 0 <= i < n (0-indexed).\n",
    "\n",
    "Specifically, ans is the concatenation of two nums arrays.\n",
    "\n",
    "Return the array ans.\n",
    "\n",
    " \n",
    "\n",
    "Example 1:\n",
    "\n",
    "Input: nums = [1,2,1]\n",
    "Output: [1,2,1,1,2,1]\n",
    "Explanation: The array ans is formed as follows:\n",
    "- ans = [nums[0],nums[1],nums[2],nums[0],nums[1],nums[2]]\n",
    "- ans = [1,2,1,1,2,1]"
   ]
  },
  {
   "cell_type": "code",
   "execution_count": null,
   "id": "6c4c66f1",
   "metadata": {},
   "outputs": [],
   "source": [
    "class Solution:\n",
    "    def getConcatenation(self, nums: List[int]) -> List[int]:\n",
    "        numsd = nums\n",
    "        for i in range(len(numsd)):\n",
    "            nums.append(numsd[i])\n",
    "        return nums"
   ]
  },
  {
   "cell_type": "markdown",
   "id": "530004f7",
   "metadata": {},
   "source": []
  },
  {
   "cell_type": "markdown",
   "id": "5fcfeecb",
   "metadata": {},
   "source": [
    "Shuffle the Array\n",
    "\n",
    "Given the array nums consisting of 2n elements in the form [x1,x2,...,xn,y1,y2,...,yn].\n",
    "\n",
    "Return the array in the form [x1,y1,x2,y2,...,xn,yn].\n",
    "\n",
    " \n",
    "\n",
    "Example 1:\n",
    "\n",
    "Input: nums = [2,5,1,3,4,7], n = 3\n",
    "Output: [2,3,5,4,1,7] \n",
    "Explanation: Since x1=2, x2=5, x3=1, y1=3, y2=4, y3=7 then the answer is [2,3,5,4,1,7]."
   ]
  },
  {
   "cell_type": "code",
   "execution_count": null,
   "id": "ec59cf14",
   "metadata": {},
   "outputs": [],
   "source": [
    "class Solution:\n",
    "    def shuffle(self, nums: List[int], n: int) -> List[int]:\n",
    "        mapped = zip(nums[:n], nums[n:])\n",
    "        l = []\n",
    "        for i, j in mapped:\n",
    "            l.append(i)\n",
    "            l.append(j)\n",
    "        return l\n",
    "            "
   ]
  },
  {
   "cell_type": "markdown",
   "id": "7cbe0628",
   "metadata": {},
   "source": []
  },
  {
   "cell_type": "markdown",
   "id": "69ee1031",
   "metadata": {},
   "source": [
    "Reverse String\n",
    "\n",
    "Write a function that reverses a string. The input string is given as an array of characters s.\n",
    "\n",
    "You must do this by modifying the input array in-place with O(1) extra memory.\n",
    "\n",
    " \n",
    "\n",
    "Example 1:\n",
    "\n",
    "Input: s = [\"h\",\"e\",\"l\",\"l\",\"o\"]\n",
    "Output: [\"o\",\"l\",\"l\",\"e\",\"h\"]"
   ]
  },
  {
   "cell_type": "code",
   "execution_count": null,
   "id": "2b2fd48b",
   "metadata": {},
   "outputs": [],
   "source": [
    "class Solution:\n",
    "    def reverseString(self, s):\n",
    "        left, right = 0, len(s) - 1\n",
    "        while left < right:\n",
    "            s[left], s[right] = s[right], s[left]\n",
    "            left, right = left + 1, right -1\n",
    "        "
   ]
  }
 ],
 "metadata": {
  "kernelspec": {
   "display_name": "Python 3",
   "language": "python",
   "name": "python3"
  },
  "language_info": {
   "codemirror_mode": {
    "name": "ipython",
    "version": 3
   },
   "file_extension": ".py",
   "mimetype": "text/x-python",
   "name": "python",
   "nbconvert_exporter": "python",
   "pygments_lexer": "ipython3",
   "version": "3.8.8"
  }
 },
 "nbformat": 4,
 "nbformat_minor": 5
}
